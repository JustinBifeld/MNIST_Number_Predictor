{
  "nbformat": 4,
  "nbformat_minor": 0,
  "metadata": {
    "colab": {
      "name": "MNIST_Number_Predictor.ipynb",
      "provenance": [],
      "collapsed_sections": [],
      "authorship_tag": "ABX9TyNXJGCrB4dBfBy+ES78IaGU",
      "include_colab_link": true
    },
    "kernelspec": {
      "name": "python3",
      "display_name": "Python 3"
    }
  },
  "cells": [
    {
      "cell_type": "markdown",
      "metadata": {
        "id": "view-in-github",
        "colab_type": "text"
      },
      "source": [
        "<a href=\"https://colab.research.google.com/github/justin02-dev/MNIST_Number_Predictor/blob/master/MNIST_Number_Predictor.ipynb\" target=\"_parent\"><img src=\"https://colab.research.google.com/assets/colab-badge.svg\" alt=\"Open In Colab\"/></a>"
      ]
    },
    {
      "cell_type": "code",
      "metadata": {
        "id": "l9yGhyhL1Hhq",
        "colab_type": "code",
        "colab": {}
      },
      "source": [
        "#install necessary libraries\n",
        "!pip install torch\n",
        "!pip install torchvision\n",
        "!pip install numpy\n",
        "!pip install pandas\n",
        "!pip install matplotlib\n",
        "!pip install sklearn"
      ],
      "execution_count": null,
      "outputs": []
    },
    {
      "cell_type": "code",
      "metadata": {
        "id": "FTB1WQ0p7wz7",
        "colab_type": "code",
        "colab": {}
      },
      "source": [
        "#import necessary libraries\n",
        "import torch #overall torch package\n",
        "import torch.nn as nn #subpackage to help with building networks\n",
        "import torch.optim as optim #subpackage with optimizers like SGD or Adam\n",
        "import torch.nn.functional as F #Interface with typical operations for building networks like loss and convolutions\n",
        "\n",
        "import torchvision.datasets\n",
        "import torchvision.transforms as transforms\n",
        "from torch.utils.data import DataLoader #dataloader for iterating through data\n",
        "\n",
        "import numpy as np\n",
        "import matplotlib.pyplot as plt"
      ],
      "execution_count": 17,
      "outputs": []
    },
    {
      "cell_type": "code",
      "metadata": {
        "id": "vshhf-Ll8VIB",
        "colab_type": "code",
        "colab": {}
      },
      "source": [
        "#load MNIST training dataset, store in /data, convert to a Tensor, Normalized\n",
        "train_set = torchvision.datasets.MNIST(\n",
        "    root='./data'\n",
        "    ,train=True\n",
        "    ,download=True\n",
        "    ,transform=transforms.Compose([\n",
        "        transforms.ToTensor(),\n",
        "        transforms.Normalize(mean,std)\n",
        "    ])\n",
        ")\n",
        "#load the data with a batch size of 1000 and shuffle it\n",
        "train_loader = torch.utils.data.DataLoader(train_set\n",
        "    ,batch_size=1000\n",
        "    ,shuffle=True\n",
        ")\n",
        "\n"
      ],
      "execution_count": 29,
      "outputs": []
    },
    {
      "cell_type": "code",
      "metadata": {
        "id": "-2MxJ6VZi3rb",
        "colab_type": "code",
        "colab": {}
      },
      "source": [
        "#define hyperparameters\n",
        "batch_size = 100\n",
        "lr = 0.01\n",
        "\n",
        "#create our Netowrk\n",
        "network = nn.Sequential(\n",
        "      nn.Conv2d(in_channels=1, out_channels=6, kernel_size=5)\n",
        "    , nn.ReLU()\n",
        "    , nn.MaxPool2d(kernel_size=2, stride=2)\n",
        "    , nn.BatchNorm2d(6)\n",
        "    , nn.Conv2d(in_channels=6, out_channels=12, kernel_size=5)\n",
        "    , nn.ReLU()\n",
        "    , nn.MaxPool2d(kernel_size=2, stride=2)\n",
        "    , nn.Flatten(start_dim=1)  \n",
        "    , nn.Linear(in_features=12*4*4, out_features=120)\n",
        "    , nn.ReLU()\n",
        "    , nn.BatchNorm1d(120)\n",
        "    , nn.Linear(in_features=120, out_features=60)\n",
        "    , nn.ReLU()\n",
        "    , nn.Linear(in_features=60, out_features=10)\n",
        ")\n",
        "\n",
        "\n",
        "train_loader = torch.utils.data.DataLoader(train_set, batch_size=batch_size) #load training data with a batch size\n",
        "optimizer = optim.Adam(network.parameters(), lr=lr) #create optimizer to use "
      ],
      "execution_count": 30,
      "outputs": []
    },
    {
      "cell_type": "code",
      "metadata": {
        "id": "7JjZltOEAPbC",
        "colab_type": "code",
        "colab": {}
      },
      "source": [
        "#function to return number of correct predictions\n",
        "def get_num_correct(preds, labels):\n",
        "    return preds.argmax(dim=1).eq(labels).sum().item()\n",
        "\n",
        "#function to display image(s)\n",
        "def show_batch(batch):\n",
        "    im = torchvision.utils.make_grid(batch)\n",
        "    plt.imshow(np.transpose(im.numpy(), (1, 2, 0)))  "
      ],
      "execution_count": 31,
      "outputs": []
    },
    {
      "cell_type": "code",
      "metadata": {
        "id": "hHhpHLBs94Db",
        "colab_type": "code",
        "colab": {}
      },
      "source": [
        "for epoch in range(10):\n",
        "  total_correct = 0\n",
        "  for data in train_loader:\n",
        "    images, labels = data\n",
        "    preds = network(images)\n",
        "    loss = F.cross_entropy(preds, labels) # Calculate Loss\n",
        "    optimizer.zero_grad()\n",
        "    loss.backward() # Calculate Gradients\n",
        "    optimizer.step() # Update Weights\n",
        "    total_correct += get_num_correct(preds, labels)\n",
        "  #output data\n",
        "  print(\n",
        "      \"epoch:\", epoch, \n",
        "      \"total_correct:\", total_correct, \n",
        "      \"loss:\", loss.item(),\n",
        "      '% correct', total_correct/60000\n",
        "  )"
      ],
      "execution_count": null,
      "outputs": []
    },
    {
      "cell_type": "code",
      "metadata": {
        "id": "aoCMRfF-lQ4S",
        "colab_type": "code",
        "colab": {}
      },
      "source": [
        "#load MNIST testing dataset, store in /data, convert to a Tensor, Normalized\n",
        "test_set = torchvision.datasets.MNIST(\n",
        "    root='./data'\n",
        "    ,train=False\n",
        "    ,download=True\n",
        "    ,transform=transforms.Compose([\n",
        "        transforms.ToTensor(),\n",
        "        transforms.Normalize(mean,std)\n",
        "    ])\n",
        ")\n",
        "#load the data with a batch size of 1000 and shuffle it\n",
        "test_loader = torch.utils.data.DataLoader(test_set\n",
        "    ,batch_size=100\n",
        "    ,shuffle=True\n",
        ")\n",
        "test_loader = DataLoader(test_set, batch_size=10000, shuffle=True, num_workers=1)\n",
        "data = next(iter(test_loader))\n",
        "print(data[0].shape)"
      ],
      "execution_count": null,
      "outputs": []
    },
    {
      "cell_type": "code",
      "metadata": {
        "id": "RdDJtp9Dl2Ye",
        "colab_type": "code",
        "colab": {}
      },
      "source": [
        "total_correct = 0\n",
        "for data in test_loader:\n",
        "    images, labels = data\n",
        "    preds = network(images)\n",
        "    total_correct += get_num_correct(preds, labels)\n",
        "\n",
        "#output data\n",
        "print(\n",
        "    \"epoch:\", epoch, \n",
        "    \"total_correct:\", total_correct, \n",
        "    \"loss:\", loss.item(),\n",
        "    '% correct', total_correct/10000\n",
        ")"
      ],
      "execution_count": null,
      "outputs": []
    },
    {
      "cell_type": "code",
      "metadata": {
        "id": "3_rkb7WtB52j",
        "colab_type": "code",
        "colab": {
          "base_uri": "https://localhost:8080/",
          "height": 320
        },
        "outputId": "992f4f5d-4201-4516-8733-b0c975562aff"
      },
      "source": [
        "index = 0 #display and classify the image at this index, 0-9999\n",
        "network.eval() \n",
        "total_correct = 0\n",
        "images, labels = data\n",
        "images = images[index]\n",
        "images = torch.unsqueeze(images, dim=0)\n",
        "labels = labels[index]\n",
        "preds = network(images)\n",
        "total_correct += get_num_correct(preds, labels)\n",
        "show_batch(images)\n",
        "#output data\n",
        "print( \n",
        "    \"guess:\", preds.argmax().item(),\n",
        "    \"label:\", labels,\n",
        "    \"correct:\", (total_correct==1)\n",
        ")"
      ],
      "execution_count": 44,
      "outputs": [
        {
          "output_type": "stream",
          "text": [
            "Clipping input data to the valid range for imshow with RGB data ([0..1] for floats or [0..255] for integers).\n"
          ],
          "name": "stderr"
        },
        {
          "output_type": "stream",
          "text": [
            "guess: 2 label: tensor(2) correct: True\n"
          ],
          "name": "stdout"
        },
        {
          "output_type": "display_data",
          "data": {
            "image/png": "[encoded data removed]",
            "text/plain": [
              "<Figure size 432x288 with 1 Axes>"
            ]
          },
          "metadata": {
            "tags": [],
            "needs_background": "light"
          }
        }
      ]
    }
  ]
}